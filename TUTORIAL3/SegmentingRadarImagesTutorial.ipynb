{
 "cells": [
  {
   "cell_type": "markdown",
   "metadata": {},
   "source": [
    "## Tutorial 3: Segmenting Radar Images \n",
    "---\n",
    "\n",
    "*Authors: [Joe Fennell](https://github.com/joe-fennell/), [Therese Cantwell](https://github.com/TMCantwell/), [Andrés Aguilar Ariza](https://github.com/anaguilarar/) & [Anna Scaife](https://github.com/as595/).*\n",
    "\n",
    "---\n",
    "\n",
    "<div class=\"alert alert-block alert-info\">\n",
    "<b>Objective:</b> You will use data from the Sentinel-1 satellite to identify flooded regions in Puerto Rico following Hurricane Maria.\n",
    "</div>\n",
    "\n",
    "\n",
    "On the 18th of September 2017 [Hurricane Maria](https://en.wikipedia.org/wiki/Hurricane_Maria) made landfall in Puerto Rico. Torrential rain and high winds caused extensive damage to infrastructure and led to widespread flooding. \n",
    "\n",
    "In this tutorial we will use radar data provided by the European Space Agency [Sentinel 1 Mission](https://earth.esa.int/web/guest/missions/esa-operational-eo-missions/sentinel-1) to identify flooded regions. We will do this using image segmentation and k-means clustering. \n",
    "\n",
    "The data for this tutorial is in the form of 3 pre-processed images, the first taken before the hurricane on 16/09/17, the second taken  just after the hurricane on 22/09/17 and the last taken one month after the hurricane on 22/10/17. \n"
   ]
  },
  {
   "cell_type": "markdown",
   "metadata": {},
   "source": [
    "---\n",
    "\n",
    "### Loading the data:\n",
    "\n",
    "We'll start by importing the numpy, matplotlib and scikit-learn libraries that we used in tutorials 1 and 2:"
   ]
  },
  {
   "cell_type": "code",
   "execution_count": null,
   "metadata": {},
   "outputs": [],
   "source": [
    "import numpy as np\n",
    "import matplotlib.pyplot as plt\n",
    "import matplotlib as mpl\n",
    "from sklearn import cluster, preprocessing"
   ]
  },
  {
   "cell_type": "markdown",
   "metadata": {},
   "source": [
    "and for this tutorial we're also going to use the [scikit-image](https://scikit-image.org),  [pandas](https://pandas.pydata.org) and [scipy]() libraries, as well as the [global](https://docs.python.org/2/library/glob.html) module that is included with your python distribution (i.e. it doesn't need to be separately installed):"
   ]
  },
  {
   "cell_type": "code",
   "execution_count": null,
   "metadata": {},
   "outputs": [],
   "source": [
    "from skimage.segmentation import slic\n",
    "from skimage.segmentation import mark_boundaries\n",
    "import pandas as pd\n",
    "import scipy as sp\n",
    "import glob"
   ]
  },
  {
   "cell_type": "markdown",
   "metadata": {},
   "source": [
    "---\n",
    "\n",
    "### Preparing the data:\n",
    "\n",
    "The instrument onboard the Sentinel-1 satellites transmits in one polarisation (V) and measures in two (V and H), giving the VV and VH bands. The first band in each data file is the signal measured in the same polarisation as the transmission (VV) and the second is measured in the orthogonal polarisation (VH).\n",
    "\n",
    "First let's define a function <code>load_data</code> to read data from the input numpy arrays:"
   ]
  },
  {
   "cell_type": "code",
   "execution_count": null,
   "metadata": {},
   "outputs": [],
   "source": [
    "def load_data(filename):\n",
    "    \n",
    "    im=np.load(filename)\n",
    "    \n",
    "    return im"
   ]
  },
  {
   "cell_type": "markdown",
   "metadata": {},
   "source": [
    "Then we define a second function to calculate the *surface polarisation* and add this to our dataset as a third axis. The *surface polarisation* is the ratio of polarisation in the first two bands. "
   ]
  },
  {
   "cell_type": "code",
   "execution_count": null,
   "metadata": {},
   "outputs": [],
   "source": [
    "def data_preprocess(data_array):\n",
    "    \n",
    "    processed_data=np.zeros(np.shape(data_array))\n",
    "    \n",
    "    processed_data[:,:,0]=data_array[:,:,0]\n",
    "    processed_data[:,:,1]=data_array[:,:,1]\n",
    "    processed_data[:,:,2]=data_array[:,:,0]/data_array[:,:,1]\n",
    "    \n",
    "    return processed_data"
   ]
  },
  {
   "cell_type": "markdown",
   "metadata": {},
   "source": [
    "Because we're loading multiple datasets, we can use the [glob]() library to get a list of all the datasets with the correct naming convention from our input data directory. This way we don't need to hardcode the names separately:"
   ]
  },
  {
   "cell_type": "code",
   "execution_count": null,
   "metadata": {},
   "outputs": [],
   "source": [
    "radar_data=glob.glob('data/SAR*npy')\n",
    "print(radar_data)"
   ]
  },
  {
   "cell_type": "markdown",
   "metadata": {},
   "source": [
    "We need to sort this list to get the input data files into the correct date order:"
   ]
  },
  {
   "cell_type": "code",
   "execution_count": null,
   "metadata": {},
   "outputs": [],
   "source": [
    "radar_data.sort()\n",
    "print(radar_data)"
   ]
  },
  {
   "cell_type": "markdown",
   "metadata": {},
   "source": [
    "Now let's load each dataset from the list:"
   ]
  },
  {
   "cell_type": "code",
   "execution_count": null,
   "metadata": {},
   "outputs": [],
   "source": [
    "day1=load_data(radar_data[0])\n",
    "day2=load_data(radar_data[1])\n",
    "day3=load_data(radar_data[2])"
   ]
  },
  {
   "cell_type": "code",
   "execution_count": null,
   "metadata": {},
   "outputs": [],
   "source": [
    "day1[0][0], day_1_preprocessed[0][0]"
   ]
  },
  {
   "cell_type": "markdown",
   "metadata": {},
   "source": [
    "We can then apply our preprocessing (i.e. add in the surface polarization):"
   ]
  },
  {
   "cell_type": "code",
   "execution_count": null,
   "metadata": {},
   "outputs": [],
   "source": [
    "day_1_preprocessed=data_preprocess(day1)\n",
    "day_2_preprocessed=data_preprocess(day2)\n",
    "day_3_preprocessed=data_preprocess(day3)"
   ]
  },
  {
   "cell_type": "code",
   "execution_count": null,
   "metadata": {},
   "outputs": [],
   "source": [
    "day_1_preprocessed.shape"
   ]
  },
  {
   "cell_type": "markdown",
   "metadata": {},
   "source": [
    "---\n",
    "\n",
    "### Visualise the data:\n",
    "\n",
    "Let's see what it looks like. We're going to plot a sub-region of the image for the pixel ranges: [0:1000, 2000:3000]"
   ]
  },
  {
   "cell_type": "code",
   "execution_count": null,
   "metadata": {},
   "outputs": [],
   "source": [
    "f = plt.figure(figsize=(12,12))\n",
    "\n",
    "f.add_subplot(131)\n",
    "plt.imshow(day_1_preprocessed[0:1000,2000:3000,0],'viridis')\n",
    "plt.title('day1 - zoom - vv')\n",
    "\n",
    "f.add_subplot(132)\n",
    "plt.imshow(day_1_preprocessed[0:1000,2000:3000,1],'viridis')\n",
    "plt.title('day1 - zoom - vh')\n",
    "\n",
    "f.add_subplot(133)\n",
    "plt.imshow(day_1_preprocessed[0:1000,2000:3000,2],'viridis')\n",
    "plt.title('day1 - zoom  - sp ')\n",
    "plt.show()"
   ]
  },
  {
   "cell_type": "markdown",
   "metadata": {},
   "source": [
    "Let's define this sub-region as our input *training data*:"
   ]
  },
  {
   "cell_type": "code",
   "execution_count": null,
   "metadata": {},
   "outputs": [],
   "source": [
    "day1_training=day_1_preprocessed[0:1000,2000:3000,:]"
   ]
  },
  {
   "cell_type": "markdown",
   "metadata": {},
   "source": [
    "We can then define another region - here I've chosen [400:1400, 3300:4300] - as our *test* data. "
   ]
  },
  {
   "cell_type": "code",
   "execution_count": null,
   "metadata": {},
   "outputs": [],
   "source": [
    "day1_test=day_1_preprocessed[400:1400,3300:4300,:]\n",
    "day2_test=day_2_preprocessed[400:1400,3300:4300,:]\n",
    "day3_test=day_3_preprocessed[400:1400,3300:4300,:]"
   ]
  },
  {
   "cell_type": "markdown",
   "metadata": {},
   "source": [
    "---\n",
    "\n",
    "### Segment the data:\n",
    "\n",
    "Now we'll use the [segmentation module](https://scikit-image.org/docs/dev/api/skimage.segmentation.html#skimage.segmentation.slic) from [scikit-image](http://scikit-image.org/docs/dev/api/skimage.segmentation.html) to create image segments. \n",
    "Each of these segments will be treated as a **superpixel**. We will calculate statistics for each of the superpixels and use these as the input features for the K-means algorithm. \n",
    "\n",
    "The function <code>calculate_segment_stats</code> will calculate:\n",
    "\n",
    "* the minimum value, \n",
    "* the maximum value, \n",
    "* the mean, \n",
    "* the variance, \n",
    "* the skewness, and \n",
    "* the kurtosis \n",
    "\n",
    "for each superpixel in each channel."
   ]
  },
  {
   "cell_type": "code",
   "execution_count": null,
   "metadata": {},
   "outputs": [],
   "source": [
    "number_segments=50000\n",
    "segments = slic(day1_training, n_segments=number_segments, compactness=50, sigma = 0, convert2lab=False)"
   ]
  },
  {
   "cell_type": "code",
   "execution_count": null,
   "metadata": {},
   "outputs": [],
   "source": [
    "plt.figure(figsize=(20,20))\n",
    "plt.imshow(mark_boundaries(day1_training[:,:,0]/255, segments))\n",
    "plt.show()"
   ]
  },
  {
   "cell_type": "code",
   "execution_count": null,
   "metadata": {},
   "outputs": [],
   "source": [
    "def calculate_segment_stats(data, segments):\n",
    "    \n",
    "    # turn the image into a 2D array (pix by channel)\n",
    "    d1_flat = pd.DataFrame(np.ravel(data).reshape((-1,3)))\n",
    "\n",
    "    # add the label vector\n",
    "    d1_flat['spID'] = np.ravel(segments)\n",
    "\n",
    "    \n",
    "    print(d1_flat)\n",
    "    \n",
    "    # calculate the mean by segment\n",
    "    return d1_flat.groupby('spID').mean().values"
   ]
  },
  {
   "cell_type": "code",
   "execution_count": null,
   "metadata": {},
   "outputs": [],
   "source": [
    "seg_means = calculate_segment_stats(day1_training,segments)\n",
    "plt.figure(figsize=(20,20))\n",
    "# broadcast the mean pixel values from the first channel\n",
    "# to the same shape as the original image array\n",
    "plt.imshow(seg_means[:,0][segments])"
   ]
  },
  {
   "cell_type": "code",
   "execution_count": null,
   "metadata": {},
   "outputs": [],
   "source": [
    "seg_means.shape"
   ]
  },
  {
   "cell_type": "markdown",
   "metadata": {},
   "source": [
    "---\n",
    "\n",
    "### Clustering the data:\n",
    "\n",
    "Now we will apply k-means clustering to the training data feature set that we've created using the steps above. We will search for three clusters in the data. \n",
    "\n",
    "We can then apply the segment classification to every pixel in the superpixel. "
   ]
  },
  {
   "cell_type": "code",
   "execution_count": null,
   "metadata": {},
   "outputs": [],
   "source": [
    "kmeans_3clusters=cluster.KMeans(n_clusters=3)\n",
    "kmeans_3clusters.fit(seg_means)"
   ]
  },
  {
   "cell_type": "markdown",
   "metadata": {},
   "source": [
    "Now let's display the area colour-coded by cluster, and I'm also going to add a rectangle over part of the image:"
   ]
  },
  {
   "cell_type": "code",
   "execution_count": null,
   "metadata": {},
   "outputs": [],
   "source": [
    "# this is the bit that displays the figure:\n",
    "plt.figure(figsize=(10,10))\n",
    "plt.imshow(kmeans_3clusters.labels_[segments],'viridis')\n",
    "plt.colorbar()\n",
    "\n",
    "# this is the bit that adds the rectangle:\n",
    "rect = mpl.patches.Rectangle((750,50),200,200,linewidth=5,edgecolor='r',facecolor='none')\n",
    "ax = plt.gca()\n",
    "ax.add_patch(rect)"
   ]
  },
  {
   "cell_type": "markdown",
   "metadata": {},
   "source": [
    "You can see from the figure above that I've put the rectangle over an area of the image which I'm pretty certain is water."
   ]
  },
  {
   "cell_type": "markdown",
   "metadata": {},
   "source": [
    "---\n",
    "\n",
    "### Using the data to monitor flooding:\n",
    "\n",
    "From the above image we have some prior intuition that the area in the red square is ocean and so we can assume that the most common class in this region is going to represent water. We want to know what cluster that corresponds to in the k-means clustering.\n",
    "\n",
    "If we check the cluster labels for the pixels in that region the most common value (i.e. the *mode*) should be the cluster corresponding to water. I'm going to use the [scipy stats library mode function](https://docs.scipy.org/doc/scipy/reference/generated/scipy.stats.mode.html)."
   ]
  },
  {
   "cell_type": "code",
   "execution_count": null,
   "metadata": {},
   "outputs": [],
   "source": [
    "training = kmeans_3clusters.labels_[segments][50:250,750:950]\n",
    "water_label = int(sp.stats.mode(training, axis=None).mode)\n",
    "print('The water label is: ',water_label)"
   ]
  },
  {
   "cell_type": "markdown",
   "metadata": {},
   "source": [
    "We are interested in applying this approach to a larger area, so we need a function to predict the label for new data. To do this, we simply wrap the model and slic algorithm into a function for convenience:"
   ]
  },
  {
   "cell_type": "code",
   "execution_count": null,
   "metadata": {},
   "outputs": [],
   "source": [
    "def predict(data, model, number_segments=number_segments):\n",
    "    \n",
    "    \"\"\" \n",
    "    Function to return labelled image\n",
    "    \"\"\"\n",
    "    \n",
    "    # segment the image\n",
    "    test_segments = slic(data,\n",
    "                         n_segments=number_segments,\n",
    "                         compactness=50,\n",
    "                         sigma = 0,\n",
    "                         convert2lab=False)\n",
    "    \n",
    "    # calculate seg stats \n",
    "    test_set = calculate_segment_stats(data,test_segments)\n",
    "    \n",
    "    # predict\n",
    "    test_set_segment_labels=model.predict(test_set)\n",
    "    \n",
    "    # code via broadcasting\n",
    "    return test_set_segment_labels[test_segments]"
   ]
  },
  {
   "cell_type": "markdown",
   "metadata": {},
   "source": [
    "We can then apply this to new areas:"
   ]
  },
  {
   "cell_type": "code",
   "execution_count": null,
   "metadata": {},
   "outputs": [],
   "source": [
    "day1_labels=predict(day1_test,kmeans_3clusters)\n",
    "day2_labels=predict(day2_test,kmeans_3clusters)\n",
    "day3_labels=predict(day3_test,kmeans_3clusters)"
   ]
  },
  {
   "cell_type": "markdown",
   "metadata": {},
   "source": [
    "Let's display the results to see how it looks:"
   ]
  },
  {
   "cell_type": "code",
   "execution_count": null,
   "metadata": {},
   "outputs": [],
   "source": [
    "f = plt.figure(figsize=(12,12))\n",
    "\n",
    "f.add_subplot(131)\n",
    "plt.imshow(day1_labels)\n",
    "plt.title(\"Day 1\")\n",
    "\n",
    "f.add_subplot(132)\n",
    "plt.imshow(day2_labels)\n",
    "plt.title(\"Day 2\")\n",
    "\n",
    "f.add_subplot(133)\n",
    "plt.imshow(day3_labels)\n",
    "plt.title(\"Day 3\")\n",
    "plt.show()"
   ]
  },
  {
   "cell_type": "markdown",
   "metadata": {},
   "source": [
    "Using the water cluster label to produce boolean arrays of 'water' at 2 time points and the NumPy logic functions, we can identify areas of water that were not present before the hurricane and were present afterwards."
   ]
  },
  {
   "cell_type": "code",
   "execution_count": null,
   "metadata": {},
   "outputs": [],
   "source": [
    "day1_water = day1_labels==water_label\n",
    "day2_water = day2_labels==water_label"
   ]
  },
  {
   "cell_type": "markdown",
   "metadata": {},
   "source": [
    "We can then display the difference using the [logical exclusive ('XOR')](https://en.wikipedia.org/wiki/Exclusive_or) function:"
   ]
  },
  {
   "cell_type": "code",
   "execution_count": null,
   "metadata": {},
   "outputs": [],
   "source": [
    "flooding = np.logical_xor(day1_water,day2_water)\n",
    "plt.figure(figsize=(10,10))\n",
    "plt.imshow(flooding, 'binary_r')\n",
    "plt.title('Flooded areas on 22/09/2017')\n",
    "plt.show()"
   ]
  },
  {
   "cell_type": "markdown",
   "metadata": {},
   "source": [
    "---\n",
    "\n",
    "End of Tutorial 3! Well done on completing the tutorials. You may now proceed to the hackathon task!"
   ]
  },
  {
   "attachments": {
    "Idai.jpeg": {
     "image/jpeg": "[encoded data removed]"
    }
   },
   "cell_type": "markdown",
   "metadata": {},
   "source": [
    "## Hackathon Task\n",
    "\n",
    "\n",
    "\n",
    "![Idai.jpeg](attachment:Idai.jpeg)\n",
    "\n",
    "\n",
    "\n",
    "On March 13th of 2019, Cyclone Idia made landfall in Mozambique and was one of the worst recorded tropical cyclones to affect Africa and the Southern-Hemisphere. Within the _task data_ folder, you will find satellite imagery data from the Sentinel satellite for an area over Mozambique affected by flooding. The data comprises of six images spanning a time frame from the 13th to the 26th of March. Your task is to perform a flood detection analysis using this dataset.\n",
    "\n",
    "When performing the analysis, attempt to answer the following questions:\n",
    "\n",
    "- What part of the image did you choose to use as your training set and why? Show a plot of your training set.\n",
    "- What part of the image did you choose to use as your test set and why?\n",
    "- How many segments did you choose to use during the image segmentation process?\n",
    "- How many clusters did you choose to use when applying the k-means clustering technique?\n",
    "\n",
    "\n",
    "Try to produce the following plots:\n",
    "\n",
    "- Show plots of the images (the whole image or the same portion thereof) over the six days after the clustering method has been applied.\n",
    "- Show plots of the progression of the flooded regions over the six days? That is, show the difference in water coverage from one day to the next.\n",
    "\n",
    "\n",
    "Some additional questions:\n",
    "\n",
    "- Does the amount of vegetation cover affect the severity of the flooding?\n",
    "- What is the affect of not having data for some of the days in between those provided? Can you estimate the amount of flooding for days on which you do not have data?\n",
    "\n",
    "\n",
    "An additional challenge:\n",
    "\n",
    "Can you calculate the area/percentage of the image that is covered by water? How does this change over the six days?"
   ]
  },
  {
   "cell_type": "markdown",
   "metadata": {},
   "source": [
    "## All the best!!"
   ]
  }
 ],
 "metadata": {
  "kernelspec": {
   "display_name": "Python 3",
   "language": "python",
   "name": "python3"
  },
  "language_info": {
   "codemirror_mode": {
    "name": "ipython",
    "version": 3
   },
   "file_extension": ".py",
   "mimetype": "text/x-python",
   "name": "python",
   "nbconvert_exporter": "python",
   "pygments_lexer": "ipython3",
   "version": "3.7.4"
  }
 },
 "nbformat": 4,
 "nbformat_minor": 2
}
